{
 "cells": [
  {
   "cell_type": "markdown",
   "metadata": {},
   "source": [
    "# Laboratorium 4 - MOFIT\n",
    "\n",
    "## Zastosowanie schematu Metropolisa: model Isinga 2D\n",
    "\n",
    "\n",
    "### Krzysztof Tondera"
   ]
  },
  {
   "cell_type": "code",
   "execution_count": 1,
   "metadata": {},
   "outputs": [],
   "source": [
    "import numpy as np\n",
    "import seaborn as sns\n",
    "import matplotlib.pyplot as plt\n",
    "import time\n",
    "import random\n",
    "sns.set()\n",
    "\n",
    "#start = time.time()\n",
    "#end = time.time()\n",
    "#print(\"{} s\".format(end - start))"
   ]
  },
  {
   "cell_type": "markdown",
   "metadata": {},
   "source": [
    "## Siatka $2^n x 2^n$ zlokalizowanych spinów $\\frac{1}{2}$"
   ]
  },
  {
   "cell_type": "code",
   "execution_count": null,
   "metadata": {},
   "outputs": [],
   "source": [
    "class lattice:\n",
    "    \n",
    "    def __init__(self,n,mu_B,J):\n",
    "        self.n=n\n",
    "        self.mu_B=mu_B\n",
    "        self.J=J\n",
    "    \n",
    "    dim=2**7\n",
    "        \n",
    "    state = np.ones(shape=(dim,dim))\n",
    "    \n",
    "    def show(self):\n",
    "        fig, ax = plt.subplots(constrained_layout=True)\n",
    "        cs = ax.contourf(self.state,cmap=\"bwr\",levels=1)\n",
    "        cbar = fig.colorbar(cs)\n",
    "        plt.title(\"Ising Model\")\n",
    "        plt.show()\n",
    "        \n",
    "    def energy(self):\n",
    "        E=0\n",
    "        for i in range(self.dim):\n",
    "            for j in range(self.dim):\n",
    "                S=self.state[i,j]\n",
    "                nb = self.state[(i+1)%self.dim, j] + self.state[i,(j+1)%self.dim] + self.state[(i-1)%self.dim, j] + self.state[i,(j-1)%self.dim]\n",
    "                E += -self.J*nb*S-self.mu_B*self.state[i,j]\n",
    "        return E/2/(2**(2*self.n))\n",
    "    \n",
    "    def metropolis_algorithm(self,kT_max):\n",
    "        \n",
    "        kT_tab=np.linspace(0.01,kT_max,100)\n",
    "        E=self.energy()\n",
    "        M=0\n",
    "        \n",
    "        avg_E=[]\n",
    "        M_tab=[]\n",
    "        \n",
    "        start = time.time()\n",
    "        for kT in kT_tab:\n",
    "            for i in range(30000):\n",
    "                a=np.random.randint(0, self.dim)\n",
    "                b=np.random.randint(0, self.dim)\n",
    "\n",
    "                sn = self.state[(a+1)%self.dim, b] + self.state[a,(b+1)%self.dim] + self.state[(a-1)%self.dim, b] + self.state[a,(b-1)%self.dim]\n",
    "                dE=2*self.mu_B*self.state[a][b]+2*self.J*self.state[a][b]*sn\n",
    "\n",
    "                if random.random() < np.exp(-dE/kT):\n",
    "                    #print(E,dE)\n",
    "                    E=E+dE\n",
    "                    self.state[a,b]*=-1\n",
    "           \n",
    "            \n",
    "            M=sum(sum(self.state)) \n",
    "            avg_E.append(E)\n",
    "            M_tab.append(M)\n",
    "        end = time.time() \n",
    "        print(\"{} s\".format(end - start))\n",
    "        return avg_E,M_tab,kT_tab "
   ]
  },
  {
   "cell_type": "markdown",
   "metadata": {},
   "source": [
    "## Zadania"
   ]
  },
  {
   "cell_type": "code",
   "execution_count": null,
   "metadata": {},
   "outputs": [],
   "source": [
    "a=lattice(7,0.1,100)\n",
    "E,M,kT=a.metropolis_algorithm(1000)"
   ]
  },
  {
   "cell_type": "code",
   "execution_count": null,
   "metadata": {},
   "outputs": [],
   "source": [
    "plt.rc('font',size=10)\n",
    "plt.figure(figsize=(15, 10))\n",
    "plt.plot(kT,E,'o',label='<E>')\n",
    "plt.xlabel(\"kT [meV]\",fontsize=20)\n",
    "plt.ylabel(\"<E> [meV]\",fontsize=20)\n",
    "plt.legend(fontsize=20)\n",
    "plt.show()"
   ]
  },
  {
   "cell_type": "code",
   "execution_count": null,
   "metadata": {},
   "outputs": [],
   "source": [
    "plt.figure(figsize=(15, 10))\n",
    "plt.plot(kT,M,'o',label='<M>')\n",
    "plt.xlabel(\"kT [meV]\",fontsize=20)\n",
    "plt.ylabel(\"<M> [meV/T]\",fontsize=20)\n",
    "plt.legend(fontsize=20)\n",
    "plt.show()"
   ]
  },
  {
   "cell_type": "code",
   "execution_count": null,
   "metadata": {},
   "outputs": [],
   "source": [
    "c=np.gradient(E)\n",
    "plt.figure(figsize=(15, 10))\n",
    "plt.plot(kT,c,'o',label=r'$c=\\frac{dE}{dkT}$')\n",
    "plt.xlabel(\"kT [meV]\",fontsize=20)\n",
    "plt.ylabel(\"c [meV/K]\",fontsize=20)\n",
    "plt.legend(fontsize=20)\n",
    "plt.show()"
   ]
  },
  {
   "cell_type": "code",
   "execution_count": null,
   "metadata": {},
   "outputs": [],
   "source": []
  }
 ],
 "metadata": {
  "kernelspec": {
   "display_name": "Python 3",
   "language": "python",
   "name": "python3"
  },
  "language_info": {
   "codemirror_mode": {
    "name": "ipython",
    "version": 3
   },
   "file_extension": ".py",
   "mimetype": "text/x-python",
   "name": "python",
   "nbconvert_exporter": "python",
   "pygments_lexer": "ipython3",
   "version": "3.8.5"
  }
 },
 "nbformat": 4,
 "nbformat_minor": 4
}
